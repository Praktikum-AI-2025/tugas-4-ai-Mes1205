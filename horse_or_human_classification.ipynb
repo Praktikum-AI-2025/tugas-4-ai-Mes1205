{
 "cells": [
  {
   "cell_type": "code",
   "execution_count": 8,
   "id": "3eccfcec",
   "metadata": {},
   "outputs": [
    {
     "ename": "ModuleNotFoundError",
     "evalue": "No module named 'keras_preprocessing'",
     "output_type": "error",
     "traceback": [
      "\u001b[31m---------------------------------------------------------------------------\u001b[39m",
      "\u001b[31mModuleNotFoundError\u001b[39m                       Traceback (most recent call last)",
      "\u001b[36mCell\u001b[39m\u001b[36m \u001b[39m\u001b[32mIn[8]\u001b[39m\u001b[32m, line 5\u001b[39m\n\u001b[32m      3\u001b[39m \u001b[38;5;28;01mimport\u001b[39;00m\u001b[38;5;250m \u001b[39m\u001b[34;01mtensorflow\u001b[39;00m\u001b[38;5;250m \u001b[39m\u001b[38;5;28;01mas\u001b[39;00m\u001b[38;5;250m \u001b[39m\u001b[34;01mtf\u001b[39;00m\n\u001b[32m      4\u001b[39m \u001b[38;5;28;01mimport\u001b[39;00m\u001b[38;5;250m \u001b[39m\u001b[34;01mos\u001b[39;00m\n\u001b[32m----> \u001b[39m\u001b[32m5\u001b[39m \u001b[38;5;28;01mfrom\u001b[39;00m\u001b[38;5;250m \u001b[39m\u001b[34;01mkeras_preprocessing\u001b[39;00m\u001b[34;01m.\u001b[39;00m\u001b[34;01mimage\u001b[39;00m\u001b[38;5;250m \u001b[39m\u001b[38;5;28;01mimport\u001b[39;00m ImageDataGenerator\n\u001b[32m      6\u001b[39m \u001b[38;5;28;01mfrom\u001b[39;00m\u001b[38;5;250m \u001b[39m\u001b[34;01mtensorflow\u001b[39;00m\u001b[34;01m.\u001b[39;00m\u001b[34;01mkeras\u001b[39;00m\u001b[34;01m.\u001b[39;00m\u001b[34;01moptimizers\u001b[39;00m\u001b[38;5;250m \u001b[39m\u001b[38;5;28;01mimport\u001b[39;00m RMSprop\n",
      "\u001b[31mModuleNotFoundError\u001b[39m: No module named 'keras_preprocessing'"
     ]
    }
   ],
   "source": [
    "\n",
    "import urllib.request\n",
    "import zipfile\n",
    "import tensorflow as tf\n",
    "import os\n",
    "from keras_preprocessing.image import ImageDataGenerator\n",
    "from tensorflow.keras.optimizers import RMSprop\n"
   ]
  },
  {
   "cell_type": "code",
   "execution_count": 2,
   "id": "def8cd0e",
   "metadata": {},
   "outputs": [
    {
     "ename": "NameError",
     "evalue": "name 'urllib' is not defined",
     "output_type": "error",
     "traceback": [
      "\u001b[31m---------------------------------------------------------------------------\u001b[39m",
      "\u001b[31mNameError\u001b[39m                                 Traceback (most recent call last)",
      "\u001b[36mCell\u001b[39m\u001b[36m \u001b[39m\u001b[32mIn[2]\u001b[39m\u001b[32m, line 2\u001b[39m\n\u001b[32m      1\u001b[39m data_url_1 = \u001b[33m'\u001b[39m\u001b[33mhttps://github.com/dicodingacademy/assets/releases/download/release-horse-or-human/horse-or-human.zip\u001b[39m\u001b[33m'\u001b[39m\n\u001b[32m----> \u001b[39m\u001b[32m2\u001b[39m \u001b[43murllib\u001b[49m.request.urlretrieve(data_url_1, \u001b[33m'\u001b[39m\u001b[33mhorse-or-human.zip\u001b[39m\u001b[33m'\u001b[39m)\n\u001b[32m      3\u001b[39m zip_ref = zipfile.ZipFile(\u001b[33m'\u001b[39m\u001b[33mhorse-or-human.zip\u001b[39m\u001b[33m'\u001b[39m, \u001b[33m'\u001b[39m\u001b[33mr\u001b[39m\u001b[33m'\u001b[39m)\n\u001b[32m      4\u001b[39m zip_ref.extractall(\u001b[33m'\u001b[39m\u001b[33mdata/horse-or-human\u001b[39m\u001b[33m'\u001b[39m)\n",
      "\u001b[31mNameError\u001b[39m: name 'urllib' is not defined"
     ]
    }
   ],
   "source": [
    "\n",
    "data_url_1 = 'https://github.com/dicodingacademy/assets/releases/download/release-horse-or-human/horse-or-human.zip'\n",
    "urllib.request.urlretrieve(data_url_1, 'horse-or-human.zip')\n",
    "zip_ref = zipfile.ZipFile('horse-or-human.zip', 'r')\n",
    "zip_ref.extractall('data/horse-or-human')\n",
    "\n",
    "data_url_2 = 'https://github.com/dicodingacademy/assets/raw/main/Simulation/machine_learning/validation-horse-or-human.zip'\n",
    "urllib.request.urlretrieve(data_url_2, 'validation-horse-or-human.zip')\n",
    "zip_ref = zipfile.ZipFile('validation-horse-or-human.zip', 'r')\n",
    "zip_ref.extractall('data/validation-horse-or-human')\n",
    "zip_ref.close()\n"
   ]
  },
  {
   "cell_type": "code",
   "execution_count": 3,
   "id": "79bdcf96",
   "metadata": {},
   "outputs": [
    {
     "ename": "NameError",
     "evalue": "name 'ImageDataGenerator' is not defined",
     "output_type": "error",
     "traceback": [
      "\u001b[31m---------------------------------------------------------------------------\u001b[39m",
      "\u001b[31mNameError\u001b[39m                                 Traceback (most recent call last)",
      "\u001b[36mCell\u001b[39m\u001b[36m \u001b[39m\u001b[32mIn[3]\u001b[39m\u001b[32m, line 4\u001b[39m\n\u001b[32m      1\u001b[39m TRAINING_DIR = \u001b[33m'\u001b[39m\u001b[33mdata/horse-or-human\u001b[39m\u001b[33m'\u001b[39m\n\u001b[32m      2\u001b[39m VALIDATION_DIR = \u001b[33m'\u001b[39m\u001b[33mdata/validation-horse-or-human\u001b[39m\u001b[33m'\u001b[39m\n\u001b[32m----> \u001b[39m\u001b[32m4\u001b[39m train_datagen = \u001b[43mImageDataGenerator\u001b[49m(\n\u001b[32m      5\u001b[39m     rescale=\u001b[32m1\u001b[39m/\u001b[32m255\u001b[39m,\n\u001b[32m      6\u001b[39m     rotation_range=\u001b[32m40\u001b[39m,\n\u001b[32m      7\u001b[39m     horizontal_flip=\u001b[38;5;28;01mTrue\u001b[39;00m,\n\u001b[32m      8\u001b[39m     shear_range=\u001b[32m0.2\u001b[39m,\n\u001b[32m      9\u001b[39m     zoom_range=\u001b[32m0.2\u001b[39m,\n\u001b[32m     10\u001b[39m     fill_mode=\u001b[33m'\u001b[39m\u001b[33mnearest\u001b[39m\u001b[33m'\u001b[39m\n\u001b[32m     11\u001b[39m )\n\u001b[32m     13\u001b[39m validation_datagen = ImageDataGenerator(rescale=\u001b[32m1\u001b[39m/\u001b[32m255\u001b[39m)\n\u001b[32m     15\u001b[39m train_generator = train_datagen.flow_from_directory(\n\u001b[32m     16\u001b[39m     TRAINING_DIR,\n\u001b[32m     17\u001b[39m     target_size=(\u001b[32m150\u001b[39m, \u001b[32m150\u001b[39m),\n\u001b[32m     18\u001b[39m     batch_size=\u001b[32m20\u001b[39m,\n\u001b[32m     19\u001b[39m     class_mode=\u001b[33m'\u001b[39m\u001b[33mbinary\u001b[39m\u001b[33m'\u001b[39m\n\u001b[32m     20\u001b[39m )\n",
      "\u001b[31mNameError\u001b[39m: name 'ImageDataGenerator' is not defined"
     ]
    }
   ],
   "source": [
    "\n",
    "TRAINING_DIR = 'data/horse-or-human'\n",
    "VALIDATION_DIR = 'data/validation-horse-or-human'\n",
    "\n",
    "train_datagen = ImageDataGenerator(\n",
    "    rescale=1/255,\n",
    "    rotation_range=40,\n",
    "    horizontal_flip=True,\n",
    "    shear_range=0.2,\n",
    "    zoom_range=0.2,\n",
    "    fill_mode='nearest'\n",
    ")\n",
    "\n",
    "validation_datagen = ImageDataGenerator(rescale=1/255)\n",
    "\n",
    "train_generator = train_datagen.flow_from_directory(\n",
    "    TRAINING_DIR,\n",
    "    target_size=(150, 150),\n",
    "    batch_size=20,\n",
    "    class_mode='binary'\n",
    ")\n",
    "\n",
    "validation_generator = validation_datagen.flow_from_directory(\n",
    "    VALIDATION_DIR,\n",
    "    target_size=(150, 150),\n",
    "    batch_size=20,\n",
    "    class_mode='binary'\n",
    ")\n"
   ]
  },
  {
   "cell_type": "code",
   "execution_count": 4,
   "id": "8a514fae",
   "metadata": {},
   "outputs": [
    {
     "ename": "NameError",
     "evalue": "name 'tf' is not defined",
     "output_type": "error",
     "traceback": [
      "\u001b[31m---------------------------------------------------------------------------\u001b[39m",
      "\u001b[31mNameError\u001b[39m                                 Traceback (most recent call last)",
      "\u001b[36mCell\u001b[39m\u001b[36m \u001b[39m\u001b[32mIn[4]\u001b[39m\u001b[32m, line 1\u001b[39m\n\u001b[32m----> \u001b[39m\u001b[32m1\u001b[39m model = \u001b[43mtf\u001b[49m.keras.models.Sequential([\n\u001b[32m      2\u001b[39m     tf.keras.layers.Conv2D(\u001b[32m16\u001b[39m, (\u001b[32m3\u001b[39m,\u001b[32m3\u001b[39m), activation=\u001b[33m'\u001b[39m\u001b[33mrelu\u001b[39m\u001b[33m'\u001b[39m, input_shape=(\u001b[32m150\u001b[39m, \u001b[32m150\u001b[39m, \u001b[32m3\u001b[39m)),\n\u001b[32m      3\u001b[39m     tf.keras.layers.MaxPooling2D(\u001b[32m2\u001b[39m,\u001b[32m2\u001b[39m),\n\u001b[32m      4\u001b[39m     tf.keras.layers.Conv2D(\u001b[32m32\u001b[39m, (\u001b[32m3\u001b[39m,\u001b[32m3\u001b[39m), activation=\u001b[33m'\u001b[39m\u001b[33mrelu\u001b[39m\u001b[33m'\u001b[39m),\n\u001b[32m      5\u001b[39m     tf.keras.layers.MaxPooling2D(\u001b[32m2\u001b[39m,\u001b[32m2\u001b[39m),\n\u001b[32m      6\u001b[39m     tf.keras.layers.Conv2D(\u001b[32m64\u001b[39m, (\u001b[32m3\u001b[39m,\u001b[32m3\u001b[39m), activation=\u001b[33m'\u001b[39m\u001b[33mrelu\u001b[39m\u001b[33m'\u001b[39m),\n\u001b[32m      7\u001b[39m     tf.keras.layers.MaxPooling2D(\u001b[32m2\u001b[39m,\u001b[32m2\u001b[39m),\n\u001b[32m      8\u001b[39m     tf.keras.layers.Flatten(),\n\u001b[32m      9\u001b[39m     tf.keras.layers.Dense(\u001b[32m512\u001b[39m, activation=\u001b[33m'\u001b[39m\u001b[33mrelu\u001b[39m\u001b[33m'\u001b[39m),\n\u001b[32m     10\u001b[39m     tf.keras.layers.Dense(\u001b[32m1\u001b[39m, activation=\u001b[33m'\u001b[39m\u001b[33msigmoid\u001b[39m\u001b[33m'\u001b[39m)  \u001b[38;5;66;03m# DO NOT CHANGE THIS LINE!\u001b[39;00m\n\u001b[32m     11\u001b[39m ])\n",
      "\u001b[31mNameError\u001b[39m: name 'tf' is not defined"
     ]
    }
   ],
   "source": [
    "\n",
    "model = tf.keras.models.Sequential([\n",
    "    tf.keras.layers.Conv2D(16, (3,3), activation='relu', input_shape=(150, 150, 3)),\n",
    "    tf.keras.layers.MaxPooling2D(2,2),\n",
    "    tf.keras.layers.Conv2D(32, (3,3), activation='relu'),\n",
    "    tf.keras.layers.MaxPooling2D(2,2),\n",
    "    tf.keras.layers.Conv2D(64, (3,3), activation='relu'),\n",
    "    tf.keras.layers.MaxPooling2D(2,2),\n",
    "    tf.keras.layers.Flatten(),\n",
    "    tf.keras.layers.Dense(512, activation='relu'),\n",
    "    tf.keras.layers.Dense(1, activation='sigmoid')  # DO NOT CHANGE THIS LINE!\n",
    "])\n"
   ]
  },
  {
   "cell_type": "code",
   "execution_count": 7,
   "id": "c1f0164c",
   "metadata": {},
   "outputs": [
    {
     "ename": "NameError",
     "evalue": "name 'model' is not defined",
     "output_type": "error",
     "traceback": [
      "\u001b[31m---------------------------------------------------------------------------\u001b[39m",
      "\u001b[31mNameError\u001b[39m                                 Traceback (most recent call last)",
      "\u001b[36mCell\u001b[39m\u001b[36m \u001b[39m\u001b[32mIn[7]\u001b[39m\u001b[32m, line 1\u001b[39m\n\u001b[32m----> \u001b[39m\u001b[32m1\u001b[39m \u001b[43mmodel\u001b[49m.compile(\n\u001b[32m      2\u001b[39m     loss=\u001b[33m'\u001b[39m\u001b[33mbinary_crossentropy\u001b[39m\u001b[33m'\u001b[39m,\n\u001b[32m      3\u001b[39m     optimizer=RMSprop(learning_rate=\u001b[32m0.001\u001b[39m),\n\u001b[32m      4\u001b[39m     metrics=[\u001b[33m'\u001b[39m\u001b[33maccuracy\u001b[39m\u001b[33m'\u001b[39m]\n\u001b[32m      5\u001b[39m )\n\u001b[32m      7\u001b[39m history = model.fit(\n\u001b[32m      8\u001b[39m     train_generator,\n\u001b[32m      9\u001b[39m     epochs=\u001b[32m10\u001b[39m,\n\u001b[32m     10\u001b[39m     validation_data=validation_generator,\n\u001b[32m     11\u001b[39m     verbose=\u001b[32m1\u001b[39m\n\u001b[32m     12\u001b[39m )\n",
      "\u001b[31mNameError\u001b[39m: name 'model' is not defined"
     ]
    }
   ],
   "source": [
    "\n",
    "model.compile(\n",
    "    loss='binary_crossentropy',\n",
    "    optimizer=RMSprop(learning_rate=0.001),\n",
    "    metrics=['accuracy']\n",
    ")\n",
    "\n",
    "history = model.fit(\n",
    "    train_generator,\n",
    "    epochs=10,\n",
    "    validation_data=validation_generator,\n",
    "    verbose=1\n",
    ")\n"
   ]
  },
  {
   "cell_type": "code",
   "execution_count": null,
   "id": "80f64a80",
   "metadata": {},
   "outputs": [],
   "source": [
    "\n",
    "model.save(\"model_05.h5\")\n"
   ]
  }
 ],
 "metadata": {
  "kernelspec": {
   "display_name": "Python 3",
   "language": "python",
   "name": "python3"
  },
  "language_info": {
   "codemirror_mode": {
    "name": "ipython",
    "version": 3
   },
   "file_extension": ".py",
   "mimetype": "text/x-python",
   "name": "python",
   "nbconvert_exporter": "python",
   "pygments_lexer": "ipython3",
   "version": "3.12.5"
  }
 },
 "nbformat": 4,
 "nbformat_minor": 5
}
